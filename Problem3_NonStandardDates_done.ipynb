{
 "cells": [
  {
   "cell_type": "markdown",
   "metadata": {},
   "source": [
    "Before you turn this problem in, make sure everything runs as expected. First, **restart the kernel** (in the menubar, select Kernel$\\rightarrow$Restart) and then **run all cells** (in the menubar, select Cell$\\rightarrow$Run All).\n",
    "\n",
    "Make sure you fill in any place that says `YOUR CODE HERE` or \"YOUR ANSWER HERE\", as well as your name and collaborators below:"
   ]
  },
  {
   "cell_type": "code",
   "execution_count": null,
   "metadata": {},
   "outputs": [],
   "source": [
    "NAME = \"Yu Chen Su\"\n"
   ]
  },
  {
   "cell_type": "markdown",
   "metadata": {},
   "source": [
    "---"
   ]
  },
  {
   "cell_type": "markdown",
   "metadata": {
    "deletable": false,
    "editable": false,
    "nbgrader": {
     "checksum": "0c24165f2c2cf0ed752c4bcfad893ea9",
     "grade": false,
     "grade_id": "cell-f26dfa4a80c90478",
     "locked": true,
     "schema_version": 1,
     "solution": false
    }
   },
   "source": [
    "# Few points about test cases and grading.\n",
    "* Each regex is worth 12.5 points and entire problem is worth 12.5*3 = 37.5.\n",
    "* Each regex will be checked against ten test cases, four visible and six hidden, and each test case will be worth 1.25 points.\n",
    "* The four visible test cases, which include 2 positive examples and 2 negative examples, are for correction purpose. Feel free to run your regex against the visible test cases to check your answer. With the visible test cases, not only we will check that your regex is matching what is supposed to, we will also check that it is not matching something it is not supposed to. These four visible test cases will be worth 1.25*4 = 5 points\n",
    "* The six hidden test cases, which include 3 positive examples and 3 negative examples, will be run after your submission. You will not be able to see the hidden test cases. Hidden test cases are very similar to the visible test cases. We included hidden test cases to make sure your answers are generalized for all examples of a particular task rather than just targeting a specific negative/positive example. These six hidden test cases will be worth 1.25*6 = 7.5 points.\n",
    "* Hence, total points for one regex are 5+7.5 = 12.5 points.\n",
    "\n",
    "You will write regexes as Python raw strings, and we will use Python as regex engine.\n",
    "\n",
    "# Regex to match non-standard dates\n",
    "\n",
    "In the US, dates are often written in the form MM/DD/YYYY, e.g.,02/14/2017. Another common variant is: February 14, 2017 . In some European countries it is common to write this date as 14.2.2017 or 14.02.2017 . Develop regular expressions that match the following non-ISO conformant (but widespread) ways to write dates. \n",
    "\n",
    "**Note that you do not have to verify that the date actually exists, e.g. February 30, 2017 is OK for this exercise.**\n",
    "\n",
    "Develop regular expressions for following.  \n",
    "a. 02/14/2017 (and dates like it, i.e. of the form Month/Day/Year ). Note that there may or may not be leading zeros (e.g., 2/14/2017 is OK).   \n",
    "b. 14.02.2017 (and similar, i.e., of the form Day.Month.Year ). Again, there may or may not be leading zeros (e.g., 14.2.2017 is OK).  \n",
    "c. February 14, 2017 (and similar). Here the regexp should allow only correct spellings of the months January through December, but independent of case: (e.g., FEBRUARY in uppercase or february are OK, but FEBRUAR (missing “ Y ”) is not OK). Hint: find a way to make regex matching case insensitive.  \n",
    "d. Treat all months as if they have 31 days. You do not have to differentiate 28, 29, 30, 31 days of different months.  \n",
    "e. You do not need to consider leap year in all of the questions."
   ]
  },
  {
   "cell_type": "code",
   "execution_count": 3,
   "metadata": {
    "deletable": false,
    "editable": false,
    "nbgrader": {
     "checksum": "d118ffde4c8fd72c7caff195a59123f6",
     "grade": false,
     "grade_id": "cell-901b455cc3381387",
     "locked": true,
     "schema_version": 1,
     "solution": false
    }
   },
   "outputs": [],
   "source": [
    "import re\n",
    "from lib.regex.regex_test import test_positive, test_negative"
   ]
  },
  {
   "cell_type": "markdown",
   "metadata": {
    "deletable": false,
    "editable": false,
    "nbgrader": {
     "checksum": "bdb756d562c279ce33d10bb4953b3766",
     "grade": false,
     "grade_id": "cell-ec9085c5dd7cb1b2",
     "locked": true,
     "schema_version": 1,
     "solution": false
    }
   },
   "source": [
    "### [12.5 points] Part a. \n",
    "#### Develop regular expression for 02/14/2017 (and dates like it, i.e. of the form Month/Day/Year ). Note that there may or may not be leading zeros (e.g., 2/14/2017 is OK). "
   ]
  },
  {
   "cell_type": "code",
   "execution_count": 49,
   "metadata": {
    "deletable": false,
    "nbgrader": {
     "checksum": "1e70663c23673b89853a5671969b9a52",
     "grade": false,
     "grade_id": "cell-c0086d1ff8149b6d",
     "locked": false,
     "schema_version": 1,
     "solution": true
    }
   },
   "outputs": [],
   "source": [
    "# Modify your regex below\n",
    "date_regex1 = r'''(0?[1-9]|1[0-2])[/](0?[1-9]|[12]\\d|30|31)[/](\\d{4})'''"
   ]
  },
  {
   "cell_type": "code",
   "execution_count": 50,
   "metadata": {
    "deletable": false,
    "editable": false,
    "nbgrader": {
     "checksum": "3c155ab863392e892412c395d07b5212",
     "grade": true,
     "grade_id": "cell-3e5560fd043334f1",
     "locked": true,
     "points": 1.25,
     "schema_version": 1,
     "solution": false
    }
   },
   "outputs": [
    {
     "name": "stdout",
     "output_type": "stream",
     "text": [
      "Test passed.\n"
     ]
    }
   ],
   "source": [
    "# [1.25 points] Part a. Positive test case 1.\n",
    "positive_test_case = r'02/12/1809'\n",
    "\n",
    "test_positive(date_regex1, positive_test_case)\n",
    "del positive_test_case"
   ]
  },
  {
   "cell_type": "code",
   "execution_count": 51,
   "metadata": {
    "deletable": false,
    "editable": false,
    "nbgrader": {
     "checksum": "bd7aff3456bbf286d2b757b27c027fc1",
     "grade": true,
     "grade_id": "cell-3d14f886d26adad2",
     "locked": true,
     "points": 1.25,
     "schema_version": 1,
     "solution": false
    }
   },
   "outputs": [
    {
     "name": "stdout",
     "output_type": "stream",
     "text": [
      "Test passed.\n"
     ]
    }
   ],
   "source": [
    "# [1.25 points] Part a. Positive test case 2.\n",
    "positive_test_case = r'03/14/1879'\n",
    "\n",
    "test_positive(date_regex1, positive_test_case)\n",
    "del positive_test_case"
   ]
  },
  {
   "cell_type": "code",
   "execution_count": 52,
   "metadata": {
    "deletable": false,
    "editable": false,
    "nbgrader": {
     "checksum": "60ac824d6a08ae1f39ebeeb0d96bb4e2",
     "grade": true,
     "grade_id": "cell-96c0a18166d76bd9",
     "locked": true,
     "points": 1.25,
     "schema_version": 1,
     "solution": false
    }
   },
   "outputs": [
    {
     "name": "stdout",
     "output_type": "stream",
     "text": [
      "Test passed.\n"
     ]
    }
   ],
   "source": [
    "# [1.25 points] Part a. Negative test case 1.\n",
    "negative_test_case = r'02-12/1809'\n",
    "\n",
    "test_negative(date_regex1, negative_test_case)\n",
    "del negative_test_case"
   ]
  },
  {
   "cell_type": "code",
   "execution_count": 53,
   "metadata": {
    "deletable": false,
    "editable": false,
    "nbgrader": {
     "checksum": "a9166acba16f57bfd847a0c37082260c",
     "grade": true,
     "grade_id": "cell-cf81f0591c5b3f74",
     "locked": true,
     "points": 1.25,
     "schema_version": 1,
     "solution": false
    }
   },
   "outputs": [
    {
     "name": "stdout",
     "output_type": "stream",
     "text": [
      "Test passed.\n"
     ]
    }
   ],
   "source": [
    "# [1.25 points] Part a. Negative test case 2.\n",
    "negative_test_case = r'03/14-1879'\n",
    "\n",
    "test_negative(date_regex1, negative_test_case)\n",
    "del negative_test_case"
   ]
  },
  {
   "cell_type": "markdown",
   "metadata": {
    "deletable": false,
    "editable": false,
    "nbgrader": {
     "checksum": "162c8dfab9887a96d726a33a7bf10d18",
     "grade": false,
     "grade_id": "cell-625edb57ac4388e6",
     "locked": true,
     "schema_version": 1,
     "solution": false
    }
   },
   "source": [
    "### [12.5 points] Part b. \n",
    "#### Develop regular expression for 14.02.2017 (and similar, i.e., of the form Day.Month.Year ). Again, there may or may not be leading zeros (e.g., 14.2.2017 is OK)."
   ]
  },
  {
   "cell_type": "code",
   "execution_count": 59,
   "metadata": {
    "deletable": false,
    "nbgrader": {
     "checksum": "8cc94be8693077d9e058b7bdb470f18d",
     "grade": false,
     "grade_id": "cell-8ffc79f4c26aa71e",
     "locked": false,
     "schema_version": 1,
     "solution": true
    }
   },
   "outputs": [],
   "source": [
    "# Modify your regex below\n",
    "date_regex2 = r'''(0?[1-9]|[12]\\d|30|31)[.](0?[1-9]|1[0-2])[.](\\d{4})'''\n",
    "\n"
   ]
  },
  {
   "cell_type": "code",
   "execution_count": 60,
   "metadata": {
    "deletable": false,
    "editable": false,
    "nbgrader": {
     "checksum": "41bb3aa3b1312f1c8d792e9566b32cab",
     "grade": true,
     "grade_id": "cell-f313c2d8df3e6b36",
     "locked": true,
     "points": 1.25,
     "schema_version": 1,
     "solution": false
    }
   },
   "outputs": [
    {
     "name": "stdout",
     "output_type": "stream",
     "text": [
      "Test passed.\n"
     ]
    }
   ],
   "source": [
    "# [1.25 points] Part b. Positive test case 1.\n",
    "positive_test_case = r'12.02.1809'\n",
    "\n",
    "test_positive(date_regex2, positive_test_case)\n",
    "del positive_test_case\n"
   ]
  },
  {
   "cell_type": "code",
   "execution_count": 61,
   "metadata": {
    "deletable": false,
    "editable": false,
    "nbgrader": {
     "checksum": "24cb752b92ff46556a3b59ddacd4152f",
     "grade": true,
     "grade_id": "cell-a6fc86f7414405f4",
     "locked": true,
     "points": 1.25,
     "schema_version": 1,
     "solution": false
    }
   },
   "outputs": [
    {
     "name": "stdout",
     "output_type": "stream",
     "text": [
      "Test passed.\n"
     ]
    }
   ],
   "source": [
    "# [1.25 points] Part b. Positive test case 2.\n",
    "positive_test_case = r'14.3.1879'\n",
    "\n",
    "test_positive(date_regex2, positive_test_case)\n",
    "del positive_test_case"
   ]
  },
  {
   "cell_type": "code",
   "execution_count": 62,
   "metadata": {
    "deletable": false,
    "editable": false,
    "nbgrader": {
     "checksum": "85daaa1545ed6bae0ce9eb16994bb4ce",
     "grade": true,
     "grade_id": "cell-a05ec0188d17dc6e",
     "locked": true,
     "points": 1.25,
     "schema_version": 1,
     "solution": false
    }
   },
   "outputs": [
    {
     "name": "stdout",
     "output_type": "stream",
     "text": [
      "Test passed.\n"
     ]
    }
   ],
   "source": [
    "# [1.25 points] Part b. Negative test case 1.\n",
    "negative_test_case = r'12..02.1809'\n",
    "\n",
    "test_negative(date_regex2, negative_test_case)\n",
    "del negative_test_case"
   ]
  },
  {
   "cell_type": "code",
   "execution_count": 63,
   "metadata": {
    "deletable": false,
    "editable": false,
    "nbgrader": {
     "checksum": "c6921b85421841ce470bf5ea0892c4f2",
     "grade": true,
     "grade_id": "cell-dac6998cc08a1cd4",
     "locked": true,
     "points": 1.25,
     "schema_version": 1,
     "solution": false
    }
   },
   "outputs": [
    {
     "name": "stdout",
     "output_type": "stream",
     "text": [
      "Test passed.\n"
     ]
    }
   ],
   "source": [
    "# [1.25 points] Part b. Negative test case 2.\n",
    "negative_test_case = r'14.03 1879'\n",
    "\n",
    "test_negative(date_regex2, negative_test_case)\n",
    "del negative_test_case"
   ]
  },
  {
   "cell_type": "markdown",
   "metadata": {
    "deletable": false,
    "editable": false,
    "nbgrader": {
     "checksum": "0deaf379868de2877ed1bfa493da4848",
     "grade": false,
     "grade_id": "cell-9138fd36e1b51dcb",
     "locked": true,
     "schema_version": 1,
     "solution": false
    }
   },
   "source": [
    "### [12.5 points] Part c. \n",
    "#### Develop regular expression for #### Develop regular expression for February 14, 2017 (and similar). Here the regexp should allow only correct spellings of the months January through December, but independent of case: (e.g., FEBRUARY in uppercase or february are OK, but FEBRUAR (missing “ Y ”) is not OK).  \n",
    "\n",
    "We will ignore case while running test cases."
   ]
  },
  {
   "cell_type": "code",
   "execution_count": 68,
   "metadata": {
    "deletable": false,
    "nbgrader": {
     "checksum": "9b4d6d52c6e53dddf17ca0f5616d5935",
     "grade": false,
     "grade_id": "cell-cc2c231d19de46ed",
     "locked": false,
     "schema_version": 1,
     "solution": true
    }
   },
   "outputs": [],
   "source": [
    "# Modify your regex below\n",
    "date_regex3 = r'(^(([A,a][P,p][R,r][I,i][L,l]|[J,j][U,u][N,n][E,e]|[S,s][E,e][P,p][T,t][E,e][M,m][B,b][E,e][R,r]|[N,n][O,o][V,v][E,e][M,m][B,b][E,b][R,r])\\ (([1-9])|([0][1-9])|([1-2][0-9])|(30))\\, (\\d{4}))|([J,j][A,a][N,n][U,u][A,a][R,r][Y,y]|[M,m][A,a][R,r][C,c][H,h]|[M,m][A,a][Y,y]|[J,j][U,u][L,l][Y,y]|[A,a][U,u][G,g][U,u][S,s][T,t]|[O,o][C,c][T,t][O,o][B,b][E,e][R,r]|[D,d][E,e][C,c][E,e][M,m][B,b][E,e][R,r])\\ (([1-9])|([0][1-9])|([1-2][0-9])|([3][0-1]))\\, [0-9]{4}$)|(^([F,f][E,e][B,b][R,r][U,u][A,r][R,r][Y,y])\\ (([1-9])|([0][1-9])|([1][0-9])|([2][0-8]))\\, [0-9]{2}(([02468][1235679])|([13579][01345789]))$)|(^([F,f][E,e][B,b][R,r][U,u][A,r][R,r][Y,y])\\ (([1-9])|([0][1-9])|([1][0-9])|([2][0-9]))\\, [0-9]{2}(([02468][048])|([13579][26]))$)'\n"
   ]
  },
  {
   "cell_type": "code",
   "execution_count": 69,
   "metadata": {
    "deletable": false,
    "editable": false,
    "nbgrader": {
     "checksum": "8de13719ea3ffaccc65a9d47d093a283",
     "grade": true,
     "grade_id": "cell-cb9af51e63434767",
     "locked": true,
     "points": 1.25,
     "schema_version": 1,
     "solution": false
    }
   },
   "outputs": [
    {
     "name": "stdout",
     "output_type": "stream",
     "text": [
      "Test passed.\n"
     ]
    }
   ],
   "source": [
    "# [1.25 points] Part c. Positive test case 1.\n",
    "positive_test_case = r'February 12, 1809'\n",
    "\n",
    "test_positive(date_regex3, positive_test_case, ignore_case=True)\n",
    "del positive_test_case"
   ]
  },
  {
   "cell_type": "code",
   "execution_count": 70,
   "metadata": {
    "deletable": false,
    "editable": false,
    "nbgrader": {
     "checksum": "c3bde0ce978f90a9ca93938cfd2c2da1",
     "grade": true,
     "grade_id": "cell-567b9a51e54517a2",
     "locked": true,
     "points": 1.25,
     "schema_version": 1,
     "solution": false
    }
   },
   "outputs": [
    {
     "name": "stdout",
     "output_type": "stream",
     "text": [
      "Test passed.\n"
     ]
    }
   ],
   "source": [
    "# [1.25 points] Part c. Positive test case 2.\n",
    "positive_test_case = r'MARCH 14, 1879'\n",
    "\n",
    "test_positive(date_regex3, positive_test_case, ignore_case=True)\n",
    "del positive_test_case"
   ]
  },
  {
   "cell_type": "code",
   "execution_count": 71,
   "metadata": {
    "deletable": false,
    "editable": false,
    "nbgrader": {
     "checksum": "78144ecfac377cb6720222141178b16a",
     "grade": true,
     "grade_id": "cell-26c3b8f36de43a50",
     "locked": true,
     "points": 1.25,
     "schema_version": 1,
     "solution": false
    }
   },
   "outputs": [
    {
     "name": "stdout",
     "output_type": "stream",
     "text": [
      "Test passed.\n"
     ]
    }
   ],
   "source": [
    "# [1.25 points] Part c. Negative test case 1.\n",
    "negative_test_case = r'February 121809'\n",
    "\n",
    "test_negative(date_regex3, negative_test_case, ignore_case=True)\n",
    "del negative_test_case"
   ]
  },
  {
   "cell_type": "code",
   "execution_count": 72,
   "metadata": {
    "deletable": false,
    "editable": false,
    "nbgrader": {
     "checksum": "b32645768d078dfd5bdec6474862d92b",
     "grade": true,
     "grade_id": "cell-4fe20ddf94d48baf",
     "locked": true,
     "points": 1.25,
     "schema_version": 1,
     "solution": false
    }
   },
   "outputs": [
    {
     "name": "stdout",
     "output_type": "stream",
     "text": [
      "Test passed.\n"
     ]
    }
   ],
   "source": [
    "# [1.25 points] Part c. Negative test case 2.\n",
    "negative_test_case = r'MARCH 14: 1879'\n",
    "\n",
    "test_negative(date_regex3, negative_test_case, ignore_case=True)\n",
    "del negative_test_case"
   ]
  },
  {
   "cell_type": "markdown",
   "metadata": {
    "deletable": false,
    "editable": false,
    "nbgrader": {
     "checksum": "9d6eafd7eaf8334bb0d8158cc3efc236",
     "grade": false,
     "grade_id": "cell-5e472347f7018f44",
     "locked": true,
     "schema_version": 1,
     "solution": false
    }
   },
   "source": [
    "### Hidden test cases.\n",
    "Rest of the notebook contains hidden test cases for both regular expressions. These test cases will be omitted from student's version of the notebook. Following cells will always pass for students and will only be evaluated after submission."
   ]
  },
  {
   "cell_type": "code",
   "execution_count": null,
   "metadata": {
    "deletable": false,
    "editable": false,
    "nbgrader": {
     "checksum": "624c3b5b5ca992c03cfcdc2491f840d8",
     "grade": true,
     "grade_id": "cell-3c0042640d255b2e",
     "locked": true,
     "points": 1.25,
     "schema_version": 1,
     "solution": false
    }
   },
   "outputs": [],
   "source": [
    "# [1.25 points] Part a. Positive test case 3.\n",
    "# Omitted from student's version of notebook.\n"
   ]
  },
  {
   "cell_type": "code",
   "execution_count": null,
   "metadata": {
    "deletable": false,
    "editable": false,
    "nbgrader": {
     "checksum": "457ec58662ba62bb926c9a6faa6aa89a",
     "grade": true,
     "grade_id": "cell-5f4bebc160a27193",
     "locked": true,
     "points": 1.25,
     "schema_version": 1,
     "solution": false
    }
   },
   "outputs": [],
   "source": [
    "# [1.25 points] Part a. Positive test case 4.\n",
    "# Omitted from student's version of notebook.\n"
   ]
  },
  {
   "cell_type": "code",
   "execution_count": null,
   "metadata": {
    "deletable": false,
    "editable": false,
    "nbgrader": {
     "checksum": "42e3a7b6e27edddfeb89b61ce5e15510",
     "grade": true,
     "grade_id": "cell-cab18548725d5892",
     "locked": true,
     "points": 1.25,
     "schema_version": 1,
     "solution": false
    }
   },
   "outputs": [],
   "source": [
    "# [1.25 points] Part a. Positive test case 5.\n",
    "# Omitted from student's version of notebook.\n"
   ]
  },
  {
   "cell_type": "code",
   "execution_count": null,
   "metadata": {
    "deletable": false,
    "editable": false,
    "nbgrader": {
     "checksum": "12642f379af33c0d8ccc952683eb164a",
     "grade": true,
     "grade_id": "cell-a9ab642a58f47af1",
     "locked": true,
     "points": 1.25,
     "schema_version": 1,
     "solution": false
    }
   },
   "outputs": [],
   "source": [
    "# [1.25 points] Part a. Negative test case 3.\n",
    "# Omitted from student's version of notebook.\n"
   ]
  },
  {
   "cell_type": "code",
   "execution_count": null,
   "metadata": {
    "deletable": false,
    "editable": false,
    "nbgrader": {
     "checksum": "8707a5517b93f63c48e616a1e303b77b",
     "grade": true,
     "grade_id": "cell-56780119e214a1d0",
     "locked": true,
     "points": 1.25,
     "schema_version": 1,
     "solution": false
    }
   },
   "outputs": [],
   "source": [
    "# [1.25 points] Part a. Negative test case 4.\n",
    "# Omitted from student's version of notebook.\n"
   ]
  },
  {
   "cell_type": "code",
   "execution_count": null,
   "metadata": {
    "deletable": false,
    "editable": false,
    "nbgrader": {
     "checksum": "ac7390ee4d796f9c0cd8c62a5cbf0693",
     "grade": true,
     "grade_id": "cell-a1be32b3c327b84c",
     "locked": true,
     "points": 1.25,
     "schema_version": 1,
     "solution": false
    }
   },
   "outputs": [],
   "source": [
    "# [1.25 points] Part a. Negative test case 5.\n",
    "# Omitted from student's version of notebook.\n"
   ]
  },
  {
   "cell_type": "code",
   "execution_count": null,
   "metadata": {
    "deletable": false,
    "editable": false,
    "nbgrader": {
     "checksum": "619e620881d007aa6c2946ab5e7c72d6",
     "grade": true,
     "grade_id": "cell-a8fe54ff1ec11ae4",
     "locked": true,
     "points": 1.25,
     "schema_version": 1,
     "solution": false
    }
   },
   "outputs": [],
   "source": [
    "# [1.25 points] Part b. Positive test case 3.\n",
    "# Omitted from student's version of notebook.\n"
   ]
  },
  {
   "cell_type": "code",
   "execution_count": null,
   "metadata": {
    "deletable": false,
    "editable": false,
    "nbgrader": {
     "checksum": "948f5506c598ba69c60eced39cda3a3b",
     "grade": true,
     "grade_id": "cell-e014a381834c17dc",
     "locked": true,
     "points": 1.25,
     "schema_version": 1,
     "solution": false
    }
   },
   "outputs": [],
   "source": [
    "# [1.25 points] Part b. Positive test case 4.\n",
    "# Omitted from student's version of notebook.\n"
   ]
  },
  {
   "cell_type": "code",
   "execution_count": null,
   "metadata": {
    "deletable": false,
    "editable": false,
    "nbgrader": {
     "checksum": "6e2df8a7f050acf54751c39ac4ee5f34",
     "grade": true,
     "grade_id": "cell-eb3472e45856778a",
     "locked": true,
     "points": 1.25,
     "schema_version": 1,
     "solution": false
    }
   },
   "outputs": [],
   "source": [
    "# [1.25 points] Part b. Positive test case 5.\n",
    "# Omitted from student's version of notebook.\n"
   ]
  },
  {
   "cell_type": "code",
   "execution_count": null,
   "metadata": {
    "deletable": false,
    "editable": false,
    "nbgrader": {
     "checksum": "5f31c78518c987078d9a7c0248e5e91b",
     "grade": true,
     "grade_id": "cell-b45d5b5639f7228c",
     "locked": true,
     "points": 1.25,
     "schema_version": 1,
     "solution": false
    }
   },
   "outputs": [],
   "source": [
    "# [1.25 points] Part b. Negative test case 3.\n",
    "# Omitted from student's version of notebook.\n"
   ]
  },
  {
   "cell_type": "code",
   "execution_count": null,
   "metadata": {
    "deletable": false,
    "editable": false,
    "nbgrader": {
     "checksum": "1940fb4207f919b7e0cf033ee19d37d2",
     "grade": true,
     "grade_id": "cell-3dd57ac1fba4f7ea",
     "locked": true,
     "points": 1.25,
     "schema_version": 1,
     "solution": false
    }
   },
   "outputs": [],
   "source": [
    "# [1.25 points] Part b. Negative test case 4.\n",
    "# Omitted from student's version of notebook.\n",
    "\n"
   ]
  },
  {
   "cell_type": "code",
   "execution_count": null,
   "metadata": {
    "deletable": false,
    "editable": false,
    "nbgrader": {
     "checksum": "3c496597ba2945c1e799dc3354292d23",
     "grade": true,
     "grade_id": "cell-cf5934ced43c5e8e",
     "locked": true,
     "points": 1.25,
     "schema_version": 1,
     "solution": false
    }
   },
   "outputs": [],
   "source": [
    "# [1.25 points] Part b. Negative test case 5.\n",
    "# Omitted from student's version of notebook.\n"
   ]
  },
  {
   "cell_type": "code",
   "execution_count": null,
   "metadata": {
    "deletable": false,
    "editable": false,
    "nbgrader": {
     "checksum": "9a2a142cfaf898753e4dc8e80a977718",
     "grade": true,
     "grade_id": "cell-eacca0d57fd5b7a2",
     "locked": true,
     "points": 1.25,
     "schema_version": 1,
     "solution": false
    }
   },
   "outputs": [],
   "source": [
    "# [1.25 points] Part c. Positive test case 3.\n",
    "# Omitted from student's version of notebook.\n"
   ]
  },
  {
   "cell_type": "code",
   "execution_count": null,
   "metadata": {
    "deletable": false,
    "editable": false,
    "nbgrader": {
     "checksum": "31f1fe98f5b046b7520f30dcab8cd7aa",
     "grade": true,
     "grade_id": "cell-fb15d63647aaf8ce",
     "locked": true,
     "points": 1.25,
     "schema_version": 1,
     "solution": false
    }
   },
   "outputs": [],
   "source": [
    "# [1.25 points] Part c. Positive test case 4.\n",
    "# Omitted from student's version of notebook.\n"
   ]
  },
  {
   "cell_type": "code",
   "execution_count": null,
   "metadata": {
    "deletable": false,
    "editable": false,
    "nbgrader": {
     "checksum": "366e8837dcbe6f69def2fd0e2f260930",
     "grade": true,
     "grade_id": "cell-92a76b681cb71690",
     "locked": true,
     "points": 1.25,
     "schema_version": 1,
     "solution": false
    }
   },
   "outputs": [],
   "source": [
    "# [1.25 points] Part c. Positive test case 5.\n",
    "# Omitted from student's version of notebook.\n"
   ]
  },
  {
   "cell_type": "code",
   "execution_count": null,
   "metadata": {
    "deletable": false,
    "editable": false,
    "nbgrader": {
     "checksum": "58413254e73ed6c35dc1bc6ce99caab8",
     "grade": true,
     "grade_id": "cell-14531d4b5eee3d9c",
     "locked": true,
     "points": 1.25,
     "schema_version": 1,
     "solution": false
    }
   },
   "outputs": [],
   "source": [
    "# [1.25 points] Part c. Negative test case 3.\n",
    "# Omitted from student's version of notebook.\n"
   ]
  },
  {
   "cell_type": "code",
   "execution_count": null,
   "metadata": {
    "deletable": false,
    "editable": false,
    "nbgrader": {
     "checksum": "58000339ce3d9c174cfe1b055fa66848",
     "grade": true,
     "grade_id": "cell-fdc216411e23b7f9",
     "locked": true,
     "points": 1.25,
     "schema_version": 1,
     "solution": false
    }
   },
   "outputs": [],
   "source": [
    "# [1.25 points] Part c. Negative test case 4.\n",
    "# Omitted from student's version of notebook.\n"
   ]
  },
  {
   "cell_type": "code",
   "execution_count": null,
   "metadata": {
    "deletable": false,
    "editable": false,
    "nbgrader": {
     "checksum": "59e5d6d3f5ef3f722f416eaa403555ab",
     "grade": true,
     "grade_id": "cell-95b289e2d29af7a2",
     "locked": true,
     "points": 1.25,
     "schema_version": 1,
     "solution": false
    }
   },
   "outputs": [],
   "source": [
    "# [1.25 points] Part c. Negative test case 5.\n",
    "# Omitted from student's version of notebook.\n"
   ]
  }
 ],
 "metadata": {
  "kernelspec": {
   "display_name": "Python 3",
   "language": "python",
   "name": "python3"
  },
  "language_info": {
   "codemirror_mode": {
    "name": "ipython",
    "version": 3
   },
   "file_extension": ".py",
   "mimetype": "text/x-python",
   "name": "python",
   "nbconvert_exporter": "python",
   "pygments_lexer": "ipython3",
   "version": "3.6.5"
  }
 },
 "nbformat": 4,
 "nbformat_minor": 2
}
